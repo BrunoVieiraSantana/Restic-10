{
 "cells": [
  {
   "cell_type": "markdown",
   "metadata": {},
   "source": [
    "# Banco de Dados"
   ]
  },
  {
   "cell_type": "markdown",
   "metadata": {},
   "source": [
    "1. **Modelar o Banco de Dados**"
   ]
  },
  {
   "cell_type": "code",
   "execution_count": null,
   "metadata": {
    "vscode": {
     "languageId": "sql"
    }
   },
   "outputs": [],
   "source": [
    "-- Active: 1706665252780@@127.0.0.1@5432@postgres\n",
    "psql -U postgres\n",
    "\n",
    "CREATE DATABASE e_commerce;\n",
    "\n",
    "\\c e_commerce;"
   ]
  },
  {
   "cell_type": "code",
   "execution_count": null,
   "metadata": {
    "vscode": {
     "languageId": "sql"
    }
   },
   "outputs": [],
   "source": [
    "CREATE TABLE categories (\n",
    "    id_category SERIAL PRIMARY KEY,\n",
    "    category_name VARCHAR(255) NOT NULL\n",
    ");"
   ]
  },
  {
   "cell_type": "code",
   "execution_count": null,
   "metadata": {
    "vscode": {
     "languageId": "sql"
    }
   },
   "outputs": [],
   "source": [
    "CREATE TABLE products (\n",
    "    id_product SERIAL PRIMARY KEY,\n",
    "    title VARCHAR(255) NOT NULL,\n",
    "    description TEXT,\n",
    "    category_id INTEGER REFERENCES categories(id_category), \n",
    "    currentPrice NUMERIC(10, 2),\n",
    "    stock INTEGER,\n",
    "    mainImg VARCHAR(255),\n",
    "    thumbnail VARCHAR(255)\n",
    ");\n",
    "\n"
   ]
  },
  {
   "cell_type": "code",
   "execution_count": null,
   "metadata": {
    "vscode": {
     "languageId": "sql"
    }
   },
   "outputs": [],
   "source": [
    "CREATE TABLE users (\n",
    "    id_user SERIAL PRIMARY KEY,\n",
    "    name VARCHAR(100) NOT NULL,\n",
    "    email VARCHAR(100) UNIQUE NOT NULL,\n",
    "    password VARCHAR NOT NULL\n",
    ");"
   ]
  },
  {
   "cell_type": "code",
   "execution_count": null,
   "metadata": {
    "vscode": {
     "languageId": "sql"
    }
   },
   "outputs": [],
   "source": [
    "CREATE TABLE purchases (\n",
    "    id_purchase SERIAL PRIMARY KEY,\n",
    "    purchase_date DATE NOT NULL\n",
    ");"
   ]
  },
  {
   "cell_type": "code",
   "execution_count": null,
   "metadata": {
    "vscode": {
     "languageId": "sql"
    }
   },
   "outputs": [],
   "source": [
    "CREATE TABLE items (\n",
    "    id_item SERIAL PRIMARY KEY,\n",
    "    user_id INTEGER REFERENCES users(id_user),\n",
    "    product_id INTEGER REFERENCES products(id_product),\n",
    "    purchase_id INTEGER REFERENCES purchases(id_purchase), \n",
    "    purchase_price NUMERIC(10, 2) NOT NULL,\n",
    "    quantity INTEGER NOT NULL,\n",
    "    status VARCHAR(20) NOT NULL CHECK (status IN ('Finalizado', 'Esperando Pagamento'))\n",
    ");\n"
   ]
  },
  {
   "cell_type": "markdown",
   "metadata": {},
   "source": [
    "2. **Criar o DER**"
   ]
  },
  {
   "cell_type": "markdown",
   "metadata": {},
   "source": [
    "<img src=\"e-commerce.png\">"
   ]
  },
  {
   "cell_type": "markdown",
   "metadata": {},
   "source": [
    "3. **Criar o script SQL**"
   ]
  },
  {
   "cell_type": "markdown",
   "metadata": {},
   "source": [
    "Popular tabelas"
   ]
  },
  {
   "cell_type": "code",
   "execution_count": null,
   "metadata": {
    "vscode": {
     "languageId": "sql"
    }
   },
   "outputs": [],
   "source": [
    "INSERT INTO products (title, description, category, currentPrice, mainImg, thumbnail)\n",
    "VALUES ('Camisa Karasuno nº10', 'Camisa do time de Volei Karasuno','vestuario', 60, 'https://i.ibb.co/18VWf4k/image-product-1.jpg', 'https://i.ibb.co/C7F6rCT/image-product-1-thumbnail.jpg');"
   ]
  },
  {
   "cell_type": "code",
   "execution_count": null,
   "metadata": {
    "vscode": {
     "languageId": "sql"
    }
   },
   "outputs": [],
   "source": [
    "INSERT INTO users (id_user, name, email, password) \n",
    "VALUES (1, 'Venus', 'venus@gmail.com', '123');"
   ]
  },
  {
   "cell_type": "code",
   "execution_count": null,
   "metadata": {
    "vscode": {
     "languageId": "sql"
    }
   },
   "outputs": [],
   "source": [
    "INSERT INTO categories (category_name) VALUES\n",
    "    ('Sapatos'),\n",
    "    ('Vestuário'),\n",
    "    ('Acessórios');\n"
   ]
  },
  {
   "cell_type": "code",
   "execution_count": null,
   "metadata": {
    "vscode": {
     "languageId": "sql"
    }
   },
   "outputs": [],
   "source": [
    "INSERT INTO products (title, description, category_id, currentPrice, stock, mainImg, thumbnail)\n",
    "VALUES \n",
    "('Tênis Nike Court Vision Lo', 'Moderno e inconfundível, o tênis Nike feminino é a opção ideal em todos os momentos. O cabedal (parte superior do calçado) em sintético proporciona suporte, apoio e durabilidade. Já a entressola e solado são emborrachados que garantem maior estabilidade e aderência em todas as superfícies. Além disso, seu design possibilita um look despojado para você que é antenado nas tendências.', 1, 429.99, 49, 'https://i.ibb.co/PGpxzx6/01.jpg', 'https://i.ibb.co/PGpxzx6/01.jpg'),\n",
    "('Tênis Nike Revolution 6', 'Um modelo versátil que garante comodidade duradoura em várias atividades do dia a dia, desde o prazer de uma caminhada até os treinos da academia. O Tênis Nike Revolution 6 possui cabedal (parte superior do calçado) leve e respirável em mesh (malha de tramas abertas), a maciez e suavidade de uma entressola em EVA que garante uma pisada mais flexível e amortecida, além de solado emborrachado para aderência e durabilidade.', 1, 259.99, 49, 'https://i.ibb.co/tD5fqyc/02.jpg', 'https://i.ibb.co/tD5fqyc/02.jpg'),\n",
    "('Tênis Olympikus Adrena', 'Se você busca um tênis que ofereça conforto, estilo e desempenho, o Tênis Olympikus Adrena é a escolha perfeita. Projetado para atletas dedicados e entusiastas do esporte, esse tênis combina inovação com moda. O cabedal anatômico Hypersox o torna incrivelmente leve e flexível,com facilidade no calce e ajuste perfeito aos movimentos dos pés, permitindo uma movimentação natural e ágil durante seus treinos. O solado Gripper tem tecnologia compacta antiderrapante e de alta resistência. A tecnologia ELEVA, presente na entressola, fornece máxima resposta, mantendo o conforto e a durabilidade. Com um design contemporâneo, o Olympikus Adrena não apenas otimiza sua performance, mas também é uma afirmação de estilo.', 1, 299.99, 49, 'https://i.ibb.co/41Q80hn/03.jpg', 'https://i.ibb.co/41Q80hn/03.jpg'),\n",
    "('Tênis Nike Revolution 7', 'Se você busca um tênis versátil que oferece desempenho superior tanto para corrida quanto para caminhada, o Tênis Nike Revolution 7 é a escolha perfeita. Este calçado não é apenas um par de tênis, é o seu companheiro de jornada, projetado para proporcionar conforto e apoio em cada passo que você dá. O cabedal é feito com materiais de alta qualidade que oferecem um ajuste perfeito que abraça o seu pé, garantindo conforto durante todo o percurso. Suas caminhadas e corridas serão mais agradáveis do que nunca. O Tênis Nike Revolution 7 é ideal para corridas, caminhadas, treinamento na academia e para o seu estilo de vida ativo. Ele se adapta a diversas atividades com facilidade.', 1, 299.99, 49, 'https://i.ibb.co/StTFKPb/04.jpg', 'https://i.ibb.co/StTFKPb/04.jpg'),\n",
    "('Camiseta Whats Wear Lisa Dry Fit com Proteção Solar UV', 'Camiseta Dry Fit é confeccionada em tecido de qualidade com proteção solar UV que te traz mais praticidade no cotidiano. Protege de danos causados pelo sol sem precisar se preocupar em reaplicar o protetor solar! Além disso, também possui rápida absorção e dissipação do suor graças a sua composição Dry-Fit. Se ajusta muito bem ao corpo. É leve e estilosa. Com gola arredondada. Perfeitamente versátil para várias ocasiões, como para o treino, academia, passeio ou ciclismo. Estilo, conforto e muita funcionalidade em uma única peça!', 2, 18.75, 49, 'https://i.ibb.co/RH6vFDc/05.jpg', 'https://i.ibb.co/RH6vFDc/05.jpg'),\n",
    "('Kit 3 Pares de Meias Atoalhadas Cano Médio', 'Desenvolvido com materiais que combinam encaixe anatômico, maciez e conforto, o Kit de Meias Oxer é a escolha certa para a proteção dos pés nas ocasiões casuais. Seu punho é canelado com efeito sanfonadinho, cano médio para mais aconchego em dias frios, além de sola macia e atoalhada. Já os três pares desse kit de meias facilitam a troca e versatilidade de uso. Aproveite o preço e garanta o seu!', 2, 19.99, 49, 'https://i.ibb.co/LCcpzDs/06.jpg', 'https://i.ibb.co/LCcpzDs/06.jpg'),\n",
    "('Camiseta Whats Wear Lisa Dry Fit com Proteção Solar UV', 'Camiseta Dry Fit é confeccionada em tecido de qualidade com proteção solar UV que te traz mais praticidade no cotidiano. Protege de danos causados pelo sol sem precisar se preocupar em reaplicar o protetor solar! Além disso, também possui rápida absorção e dissipação do suor graças a sua composição Dry-Fit. Se ajusta muito bem ao corpo. É leve e estilosa. Com gola arredondada. Perfeitamente versátil para várias ocasiões, como para o treino, academia, passeio ou ciclismo. Estilo, conforto e muita funcionalidade em uma única peça!', 2, 18.75, 49, 'https://i.ibb.co/wgSxXHg/07.jpg', 'https://i.ibb.co/wgSxXHg/07.jpg'),\n",
    "('Meia Cano Curto Asics Tech Single', 'Para você que busca conforto, a Meia Cano Curto Asics Tech Single é a pedida certa. A sola da meia é macia e anatômica, com punho elástico. Confeccionada em materiais de qualidade que proporcionam leveza e bem-estar. Não perca a chance e adquira já a meia ASICS!', 2, 19.99, 49, 'https://i.ibb.co/wSTPLr7/08.jpg', 'https://i.ibb.co/wSTPLr7/08.jpg'),\n",
    "('Lancheira com 2 Compartimentos Oxer', 'Com design moderno e compartimentos amplo, essa lancheira é ideal para o dia a dia ou levar sua comidinha de casa para o trabalho, escola ou finais de semana. Em material resistente e alça manual para um transporte mais seguro. Além disso, o padrão Oxer está presente em todos os detalhes. Não perca tempo adquira já!', 3, 74.99, 49, 'https://i.ibb.co/SKDMrhX/09.jpg', 'https://i.ibb.co/SKDMrhX/09.jpg'),\n",
    "('Boné 940 New York Yankees New Era', 'Com design clássico, torcer pelo time favorito ficou muito mais estiloso e confortável com esse incrível Boné New York Yankees Aba Curva 940. Reforçado por costura na parte interna, possui faixa em tecido que ajuda na absorção excessiva do suor. Já a aba é curva para maior proteção com prático fecho regulável por pinos, estilo snapback. Já o icônico escudo se destaca no painel frontal para representar a paixão pelo esporte em qualquer atividade.', 3, 124.99, 49, 'https://i.ibb.co/7Nz9XLp/10.jpg', 'https://i.ibb.co/7Nz9XLp/10.jpg'),\n",
    "('Mochila adidas Essentials Linear', 'A Mochila Adidas Essentials Linear é uma escolha ideal para o dia a dia. Com dimensões de 14x26,5x46 cm e um volume de 22,5L, oferece amplo espaço para seus pertences. Feita de tecido plano de poliéster, possui acolchoamento em espuma 100% PE para conforto. Seu design inclui compartimento principal com zíper, bolsos laterais abertos, bolso frontal oculto com zíper e alças de ombro ajustáveis, garantindo praticidade e conforto.', 3, 149.99, 49, 'https://i.ibb.co/ZHHhRFP/11.jpg', 'https://i.ibb.co/ZHHhRFP/11.jpg'),\n",
    "('Toalha de Microfibra Oxer Treino Compacta', 'A aliada perfeita para te acompanhar nas atividades esportivas, a Toalha deTreino Oxer oferece alta absorção da umidade, evitando que o suor escorra e atrapalhe o desempenho. Suas extremidades possuem bordas reforçadas com o diferencial de ser facilmente dobrada e encaixada em tira elástica para facilitar o transporte.', 3, 24.99, 49, 'https://i.ibb.co/g7Xh2M6/12.jpg', 'https://i.ibb.co/g7Xh2M6/12.jpg');\n"
   ]
  },
  {
   "cell_type": "code",
   "execution_count": null,
   "metadata": {
    "vscode": {
     "languageId": "sql"
    }
   },
   "outputs": [],
   "source": [
    "WITH new_purchase AS (\n",
    "    INSERT INTO purchases (purchase_date)\n",
    "    VALUES (CURRENT_DATE)\n",
    "    RETURNING id_purchase\n",
    ")\n",
    "INSERT INTO items (user_id, product_id, purchase_id, purchase_price, quantity, status)\n",
    "SELECT\n",
    "    1 AS user_id,\n",
    "    1 AS product_id,\n",
    "    new_purchase.id_purchase AS purchase_id,\n",
    "    p.currentprice AS purchase_price,\n",
    "    1 AS quantity,\n",
    "    'Esperando Pagamento' AS status\n",
    "FROM new_purchase\n",
    "CROSS JOIN products p\n",
    "WHERE p.id_product = 1;"
   ]
  },
  {
   "cell_type": "code",
   "execution_count": null,
   "metadata": {
    "vscode": {
     "languageId": "sql"
    }
   },
   "outputs": [],
   "source": [
    "SELECT to_char(p.purchase_date, 'DD/MM/YYYY') AS purchase_date_formatted,\n",
    "       pr.title AS product_name,\n",
    "       i.purchase_price AS product_price,\n",
    "       i.status AS payment_status\n",
    "FROM purchases p\n",
    "JOIN items i ON p.id_purchase = i.purchase_id\n",
    "JOIN products pr ON i.product_id = pr.id_product\n",
    "WHERE i.user_id = 1;"
   ]
  },
  {
   "cell_type": "code",
   "execution_count": null,
   "metadata": {
    "vscode": {
     "languageId": "sql"
    }
   },
   "outputs": [],
   "source": [
    "-- Active: 1706665252780@@127.0.0.1@5432@e_commerce\n",
    "DROP TABLE users;\n",
    "DROP TABLE products;\n",
    "DROP TABLE items;\n",
    "DROP TABLE categories;\n",
    "DROP TABLE purchases;\n",
    "\n",
    "DROP TABLE IF EXISTS users, products, items, categories, purchases;\n"
   ]
  },
  {
   "cell_type": "markdown",
   "metadata": {},
   "source": [
    "# API"
   ]
  },
  {
   "cell_type": "markdown",
   "metadata": {},
   "source": [
    "4. **Construir a rota de pegar todos os produtos**"
   ]
  },
  {
   "cell_type": "code",
   "execution_count": null,
   "metadata": {
    "vscode": {
     "languageId": "javascript"
    }
   },
   "outputs": [],
   "source": [
    "const postgre = require('../database')\n",
    "const productController = {\n",
    "    getAll: async(req, res) => {\n",
    "        try {\n",
    "            const { rows } = await postgre.query(\"select * from products\")\n",
    "            res.json({msg: \"OK\", data: rows})\n",
    "        } catch (error) {\n",
    "            res.json({msg: error.msg})\n",
    "        }\n",
    "    }\n",
    "}"
   ]
  },
  {
   "cell_type": "code",
   "execution_count": null,
   "metadata": {
    "vscode": {
     "languageId": "javascript"
    }
   },
   "outputs": [],
   "source": [
    "router.get(\"/\", productController.getAll)"
   ]
  },
  {
   "cell_type": "markdown",
   "metadata": {},
   "source": [
    "5. **Construir a rota de filtrar os produtos**"
   ]
  },
  {
   "cell_type": "code",
   "execution_count": null,
   "metadata": {
    "vscode": {
     "languageId": "javascript"
    }
   },
   "outputs": [],
   "source": [
    "getById: async(req, res) => {\n",
    "    try {\n",
    "        const { rows } = await postgre.query(\"select * from products where id_product = $1\", [req.params.id])\n",
    "\n",
    "        if (rows[0]) {\n",
    "            return res.json({msg: \"OK\", data: rows})\n",
    "        }\n",
    "\n",
    "        res.status(404).json({msg: \"not found\"})\n",
    "    } catch (error) {\n",
    "        res.json({msg: error.msg})\n",
    "    }\n",
    "}"
   ]
  },
  {
   "cell_type": "code",
   "execution_count": null,
   "metadata": {
    "vscode": {
     "languageId": "javascript"
    }
   },
   "outputs": [],
   "source": [
    "router.get(\"/:id\", productController.getById)"
   ]
  },
  {
   "cell_type": "markdown",
   "metadata": {},
   "source": [
    "6. **Construir a rota de cadastrar um usuário**"
   ]
  },
  {
   "cell_type": "code",
   "execution_count": null,
   "metadata": {
    "vscode": {
     "languageId": "javascript"
    }
   },
   "outputs": [],
   "source": [
    "create: async (req, res) => {\n",
    "    try {\n",
    "        const { name, email, password } = req.body;\n",
    "\n",
    "        const sql = 'INSERT INTO users(name, email, password) VALUES($1, $2, $3) RETURNING *';\n",
    "\n",
    "        const { rows } = await postgre.query(sql, [name, email, password]);\n",
    "\n",
    "        res.json({ msg: \"OK\", data: rows[0] });\n",
    "\n",
    "    } catch (error) {\n",
    "        res.json({ msg: error.msg });\n",
    "    }\n",
    "}"
   ]
  },
  {
   "cell_type": "code",
   "execution_count": null,
   "metadata": {
    "vscode": {
     "languageId": "javascript"
    }
   },
   "outputs": [],
   "source": [
    "router.post(\"/create\", userController.create);"
   ]
  },
  {
   "cell_type": "markdown",
   "metadata": {},
   "source": [
    "7. **Construir a rota de login**"
   ]
  },
  {
   "cell_type": "code",
   "execution_count": null,
   "metadata": {
    "vscode": {
     "languageId": "javascript"
    }
   },
   "outputs": [],
   "source": [
    "authenticateUser: async (req, res) => {\n",
    "    try {\n",
    "        const { email, password } = req.body;\n",
    "\n",
    "        const query = 'SELECT * FROM users WHERE email = $1 AND password = $2';\n",
    "        const { rows } = await postgre.query(query, [email, password]);\n",
    "\n",
    "        console.log(\"Rows:\", rows); \n",
    "\n",
    "        if (rows.length > 0) {\n",
    "            const user = rows[0];\n",
    "            console.log(\"User:\", user); \n",
    "\n",
    "            const token = jwt.sign({ email: user.email, id: user.id_user, name: user.name }, secret, { expiresIn: '1h' });\n",
    "\n",
    "            return res.status(200).json({ token, name: user.name });\n",
    "        } else {\n",
    "            return res.status(401).json({ msg: \"Unauthorized\" });\n",
    "        }\n",
    "    } catch (error) {\n",
    "        console.error(error);\n",
    "        res.status(500).json({ msg: \"Internal Server Error\" });\n",
    "    }\n",
    "}"
   ]
  },
  {
   "cell_type": "code",
   "execution_count": null,
   "metadata": {
    "vscode": {
     "languageId": "javascript"
    }
   },
   "outputs": [],
   "source": [
    "router.post(\"/authenticate\", userController.authenticateUser);"
   ]
  },
  {
   "cell_type": "markdown",
   "metadata": {},
   "source": [
    "8. **Construir a rota de pegar todas as vendas e seus produtos de um usuário específico**"
   ]
  },
  {
   "cell_type": "markdown",
   "metadata": {},
   "source": [
    "9. **Construir a rota de cadastrar uma venda**"
   ]
  }
 ],
 "metadata": {
  "language_info": {
   "name": "python"
  }
 },
 "nbformat": 4,
 "nbformat_minor": 2
}
