{
 "cells": [
  {
   "cell_type": "markdown",
   "metadata": {},
   "source": [
    "# Banco de Dados"
   ]
  },
  {
   "cell_type": "markdown",
   "metadata": {},
   "source": [
    "1. **Modelar o Banco de Dados**"
   ]
  },
  {
   "cell_type": "code",
   "execution_count": null,
   "metadata": {
    "vscode": {
     "languageId": "sql"
    }
   },
   "outputs": [],
   "source": [
    "-- Active: 1706665252780@@127.0.0.1@5432@postgres\n",
    "psql -U postgres\n",
    "\n",
    "CREATE DATABASE e_commerce;\n",
    "\n",
    "\\c e_commerce;"
   ]
  },
  {
   "cell_type": "code",
   "execution_count": null,
   "metadata": {
    "vscode": {
     "languageId": "sql"
    }
   },
   "outputs": [],
   "source": [
    "-- Active: 1706665252780@@127.0.0.1@5432@e_commerce@public\n",
    "CREATE TABLE products (\n",
    "    id_product SERIAL PRIMARY KEY,\n",
    "    title VARCHAR(255) NOT NULL,\n",
    "    description TEXT,\n",
    "    category VARCHAR(255), \n",
    "    currentPrice INTEGER,\n",
    "    mainImg VARCHAR(255),\n",
    "    thumbnail VARCHAR(255)\n",
    ");\n"
   ]
  },
  {
   "cell_type": "code",
   "execution_count": null,
   "metadata": {
    "vscode": {
     "languageId": "sql"
    }
   },
   "outputs": [],
   "source": [
    "-- Active: 1706665252780@@127.0.0.1@5432@e_commerce@public\n",
    "CREATE TABLE users (\n",
    "    id_user SERIAL PRIMARY KEY,\n",
    "    name VARCHAR(100) NOT NULL,\n",
    "    email VARCHAR(100) NOT NULL,\n",
    "    password VARCHAR NOT NULL\n",
    ");"
   ]
  },
  {
   "cell_type": "code",
   "execution_count": null,
   "metadata": {
    "vscode": {
     "languageId": "sql"
    }
   },
   "outputs": [],
   "source": [
    "-- Active: 1706665252780@@127.0.0.1@5432@e_commerce@public\n",
    "CREATE TABLE sales (\n",
    "    id_sale SERIAL PRIMARY KEY,\n",
    "    user_id INTEGER REFERENCES users(id_user),\n",
    "    product_id INTEGER REFERENCES products(id_product),\n",
    "    purchase_date DATE NOT NULL,\n",
    "    purchase_price INTEGER NOT NULL,\n",
    "    quantity INTEGER NOT NULL,\n",
    "    status VARCHAR(20) NOT NULL CHECK (status IN ('Finalizado', 'Esperando Pagamento'))\n",
    ");"
   ]
  },
  {
   "cell_type": "markdown",
   "metadata": {},
   "source": [
    "2. **Criar o DER**"
   ]
  },
  {
   "cell_type": "markdown",
   "metadata": {},
   "source": [
    "<img src=\"e-commerce.png\">"
   ]
  },
  {
   "cell_type": "markdown",
   "metadata": {},
   "source": [
    "3. **Criar o script SQL**"
   ]
  },
  {
   "cell_type": "code",
   "execution_count": null,
   "metadata": {
    "vscode": {
     "languageId": "sql"
    }
   },
   "outputs": [],
   "source": [
    "INSERT INTO products (id_product, title, description, currentPrice, mainImg, thumbnail)\n",
    "VALUES (1, 'Camisa Karasuno nº10', 'Camisa do time de Volei Karasuno', 60, 'https://i.ibb.co/18VWf4k/image-product-1.jpg', 'https://i.ibb.co/C7F6rCT/image-product-1-thumbnail.jpg');"
   ]
  },
  {
   "cell_type": "code",
   "execution_count": null,
   "metadata": {
    "vscode": {
     "languageId": "sql"
    }
   },
   "outputs": [],
   "source": [
    "DROP TABLE sales;\n",
    "DROP TABLE products;"
   ]
  },
  {
   "cell_type": "markdown",
   "metadata": {},
   "source": [
    "# API"
   ]
  },
  {
   "cell_type": "markdown",
   "metadata": {},
   "source": [
    "4. **Construir a rota de pegar todos os produtos**"
   ]
  },
  {
   "cell_type": "code",
   "execution_count": null,
   "metadata": {
    "vscode": {
     "languageId": "javascript"
    }
   },
   "outputs": [],
   "source": [
    "const postgre = require('../database')\n",
    "const productController = {\n",
    "    getAll: async(req, res) => {\n",
    "        try {\n",
    "            const { rows } = await postgre.query(\"select * from products\")\n",
    "            res.json({msg: \"OK\", data: rows})\n",
    "        } catch (error) {\n",
    "            res.json({msg: error.msg})\n",
    "        }\n",
    "    }\n",
    "}"
   ]
  },
  {
   "cell_type": "code",
   "execution_count": null,
   "metadata": {
    "vscode": {
     "languageId": "javascript"
    }
   },
   "outputs": [],
   "source": [
    "router.get(\"/\", productController.getAll)"
   ]
  },
  {
   "cell_type": "markdown",
   "metadata": {},
   "source": [
    "5. **Construir a rota de filtrar os produtos**"
   ]
  },
  {
   "cell_type": "code",
   "execution_count": null,
   "metadata": {
    "vscode": {
     "languageId": "javascript"
    }
   },
   "outputs": [],
   "source": [
    "getById: async(req, res) => {\n",
    "    try {\n",
    "        const { rows } = await postgre.query(\"select * from products where id_product = $1\", [req.params.id])\n",
    "\n",
    "        if (rows[0]) {\n",
    "            return res.json({msg: \"OK\", data: rows})\n",
    "        }\n",
    "\n",
    "        res.status(404).json({msg: \"not found\"})\n",
    "    } catch (error) {\n",
    "        res.json({msg: error.msg})\n",
    "    }\n",
    "}"
   ]
  },
  {
   "cell_type": "code",
   "execution_count": null,
   "metadata": {
    "vscode": {
     "languageId": "javascript"
    }
   },
   "outputs": [],
   "source": [
    "router.get(\"/:id\", productController.getById)"
   ]
  },
  {
   "cell_type": "markdown",
   "metadata": {},
   "source": [
    "6. **Construir a rota de cadastrar um usuário**"
   ]
  },
  {
   "cell_type": "code",
   "execution_count": null,
   "metadata": {
    "vscode": {
     "languageId": "javascript"
    }
   },
   "outputs": [],
   "source": [
    "create: async (req, res) => {\n",
    "    try {\n",
    "        const { name, email, password } = req.body;\n",
    "\n",
    "        const sql = 'INSERT INTO users(name, email, password) VALUES($1, $2, $3) RETURNING *';\n",
    "\n",
    "        const { rows } = await postgre.query(sql, [name, email, password]);\n",
    "\n",
    "        res.json({ msg: \"OK\", data: rows[0] });\n",
    "\n",
    "    } catch (error) {\n",
    "        res.json({ msg: error.msg });\n",
    "    }\n",
    "}"
   ]
  },
  {
   "cell_type": "code",
   "execution_count": null,
   "metadata": {
    "vscode": {
     "languageId": "javascript"
    }
   },
   "outputs": [],
   "source": [
    "router.post(\"/create\", userController.create);"
   ]
  },
  {
   "cell_type": "markdown",
   "metadata": {},
   "source": [
    "7. **Construir a rota de login**"
   ]
  },
  {
   "cell_type": "code",
   "execution_count": null,
   "metadata": {
    "vscode": {
     "languageId": "javascript"
    }
   },
   "outputs": [],
   "source": [
    "authenticateUser: async (req, res) => {\n",
    "    try {\n",
    "        const { email, password } = req.body;\n",
    "\n",
    "        const query = 'SELECT * FROM users WHERE email = $1 AND password = $2';\n",
    "        const { rows } = await postgre.query(query, [email, password]);\n",
    "\n",
    "        console.log(\"Rows:\", rows); \n",
    "\n",
    "        if (rows.length > 0) {\n",
    "            const user = rows[0];\n",
    "            console.log(\"User:\", user); \n",
    "\n",
    "            const token = jwt.sign({ email: user.email, id: user.id_user, name: user.name }, secret, { expiresIn: '1h' });\n",
    "\n",
    "            return res.status(200).json({ token, name: user.name });\n",
    "        } else {\n",
    "            return res.status(401).json({ msg: \"Unauthorized\" });\n",
    "        }\n",
    "    } catch (error) {\n",
    "        console.error(error);\n",
    "        res.status(500).json({ msg: \"Internal Server Error\" });\n",
    "    }\n",
    "}"
   ]
  },
  {
   "cell_type": "code",
   "execution_count": null,
   "metadata": {
    "vscode": {
     "languageId": "javascript"
    }
   },
   "outputs": [],
   "source": [
    "router.post(\"/authenticate\", userController.authenticateUser);"
   ]
  },
  {
   "cell_type": "markdown",
   "metadata": {},
   "source": [
    "8. **Construir a rota de pegar todas as vendas e seus produtos de um usuário específico**"
   ]
  },
  {
   "cell_type": "markdown",
   "metadata": {},
   "source": [
    "9. **Construir a rota de cadastrar uma venda**"
   ]
  }
 ],
 "metadata": {
  "language_info": {
   "name": "python"
  }
 },
 "nbformat": 4,
 "nbformat_minor": 2
}
