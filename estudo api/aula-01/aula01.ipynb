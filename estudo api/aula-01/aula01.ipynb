{
 "cells": [
  {
   "cell_type": "code",
   "execution_count": null,
   "metadata": {
    "vscode": {
     "languageId": "sql"
    }
   },
   "outputs": [],
   "source": [
    "\\! cls"
   ]
  },
  {
   "cell_type": "markdown",
   "metadata": {},
   "source": [
    "4.1 Crie, via terminal, uma base de dados chamada agenda_telefonica. "
   ]
  },
  {
   "cell_type": "code",
   "execution_count": null,
   "metadata": {
    "vscode": {
     "languageId": "sql"
    }
   },
   "outputs": [],
   "source": [
    "-- Active: 1706665252780@@127.0.0.1@5432@postgres\n",
    "psql -U postgres\n",
    "\n",
    "CREATE DATABASE e_commerce;\n",
    "\n",
    "\\c e_commerce;"
   ]
  },
  {
   "cell_type": "markdown",
   "metadata": {},
   "source": [
    "4.2 As tabelas e\n",
    "suas colunas são descritas na figura abaixo. Todos os campos de todas as tabelas\n",
    "não podem ser nulos. Além disso, a coluna telefone da tabela Telefones deve\n",
    "conter valores únicos. Escolha o tipo das colunas, mas tenha em mente a\n",
    "justificativa da escolha deles."
   ]
  },
  {
   "cell_type": "markdown",
   "metadata": {},
   "source": [
    "<img src=\"sql-1.jpg\">"
   ]
  },
  {
   "cell_type": "code",
   "execution_count": null,
   "metadata": {
    "vscode": {
     "languageId": "sql"
    }
   },
   "outputs": [],
   "source": [
    "-- Active: 1706665252780@@127.0.0.1@5432@e_commerce@public\n",
    "CREATE TABLE products (\n",
    "    id_product SERIAL PRIMARY KEY,\n",
    "    title VARCHAR(255) NOT NULL,\n",
    "    descript TEXT,\n",
    "    currentPrice INTEGER,\n",
    "    mainImg VARCHAR(255),\n",
    "    thumbnail VARCHAR(255)\n",
    ");\n"
   ]
  },
  {
   "cell_type": "code",
   "execution_count": null,
   "metadata": {
    "vscode": {
     "languageId": "sql"
    }
   },
   "outputs": [],
   "source": [
    "-- Active: 1706665252780@@127.0.0.1@5432@e_commerce@public\n",
    "CREATE TABLE users (\n",
    "    id_user SERIAL PRIMARY KEY,\n",
    "    name VARCHAR(100) NOT NULL,\n",
    "    email VARCHAR(100) NOT NULL,\n",
    "    password VARCHAR NOT NULL\n",
    ");"
   ]
  },
  {
   "cell_type": "code",
   "execution_count": null,
   "metadata": {
    "vscode": {
     "languageId": "sql"
    }
   },
   "outputs": [],
   "source": [
    "-- Active: 1706665252780@@127.0.0.1@5432@e_commerce@public\n",
    "CREATE TABLE sales (\n",
    "    id_sale SERIAL PRIMARY KEY,\n",
    "    user_id INTEGER REFERENCES users(id_user),\n",
    "    product_id INTEGER REFERENCES products(id_product),\n",
    "    purchase_date DATE NOT NULL,\n",
    "    purchase_price INTEGER NOT NULL,\n",
    "    status VARCHAR(20) NOT NULL CHECK (status IN ('Finalizado', 'Esperando Pagamento'))\n",
    ");"
   ]
  },
  {
   "cell_type": "markdown",
   "metadata": {},
   "source": [
    "Listar todas as tabelas de uma base de dados"
   ]
  },
  {
   "cell_type": "code",
   "execution_count": null,
   "metadata": {
    "vscode": {
     "languageId": "sql"
    }
   },
   "outputs": [],
   "source": [
    "\\dt"
   ]
  },
  {
   "cell_type": "markdown",
   "metadata": {},
   "source": [
    "Listar todos os registros de uma tabela com todas as suas colunas"
   ]
  },
  {
   "cell_type": "code",
   "execution_count": null,
   "metadata": {
    "vscode": {
     "languageId": "sql"
    }
   },
   "outputs": [],
   "source": [
    "select * from pessoas;"
   ]
  },
  {
   "cell_type": "markdown",
   "metadata": {},
   "source": [
    "5. Insira cinco pessoas, sendo duas delas com mais de um telefone cadastrado e\n",
    "uma que não possui telefone cadastrado."
   ]
  },
  {
   "cell_type": "code",
   "execution_count": null,
   "metadata": {
    "vscode": {
     "languageId": "sql"
    }
   },
   "outputs": [],
   "source": [
    "-- Active: 1706665252780@@127.0.0.1@5432@e_commerce@public\n",
    "INSERT INTO products (title, descript, currentPrice, mainImg, thumbnail) VALUES\n",
    "     ('Camisa Karasuno nº10', 'Camisa do time de Volei Karasuno', 60, 'https://ibb.co/J5LJRS9', 'https://ibb.co/J7Pqh6M')\n",
    "\n",
    "INSERT INTO telefones (telefone, id_pessoa) VALUES\n",
    "    ('11111', 1), \n",
    "    ('22222', 2), \n",
    "    ('33333', 2),\n",
    "    ('44444', 3), \n",
    "    ('55555', 4);"
   ]
  },
  {
   "cell_type": "markdown",
   "metadata": {},
   "source": [
    "6. Delete o telefone ou um dos telefones da primeira pessoa cadastrada."
   ]
  },
  {
   "cell_type": "code",
   "execution_count": null,
   "metadata": {
    "vscode": {
     "languageId": "sql"
    }
   },
   "outputs": [],
   "source": [
    "DELETE FROM telefones\n",
    "WHERE id_pessoa = 1;"
   ]
  },
  {
   "cell_type": "markdown",
   "metadata": {},
   "source": [
    "7. Delete a pessoa que não possui telefone cadastrado."
   ]
  },
  {
   "cell_type": "code",
   "execution_count": null,
   "metadata": {
    "vscode": {
     "languageId": "sql"
    }
   },
   "outputs": [],
   "source": [
    "DELETE FROM pessoas\n",
    "WHERE nome = 'Jill';"
   ]
  },
  {
   "cell_type": "markdown",
   "metadata": {},
   "source": [
    "8. Delete uma pessoa que possui algum telefone cadastrado. Caso tenha obtido\n",
    "algum erro, explique o motivo e como fez para contornar. Posteriormente,\n",
    "pesquise sobre a palavra reservada do SQL ON DELETE e explique para que serve\n",
    "e as opções que ela possui."
   ]
  },
  {
   "cell_type": "code",
   "execution_count": null,
   "metadata": {
    "vscode": {
     "languageId": "sql"
    }
   },
   "outputs": [],
   "source": [
    "DELETE FROM telefones\n",
    "WHERE id_pessoa = 1;\n",
    "\n",
    "DELETE FROM pessoas\n",
    "WHERE id_pessoa = 1;"
   ]
  },
  {
   "cell_type": "markdown",
   "metadata": {},
   "source": [
    "ON DELETE significa que a ação referencial será executada quando um registro for excluído da tabela pai, e ON UPDATE indica que a ação referencial será executada quando um registro for modificado na tabela pai.\n",
    "\n",
    "As principais opções para as ações referenciais são as seguintes:\n",
    "\n",
    "CASCADE: A opção CASCADE permite excluir ou atualizar os registros relacionados presentes na tabela filha automaticamente, quando um registro da tabela pai for atualizado (ON UPDATE) ou excluído (ON DELETE). É a opção mais comum aplicada.\n",
    "\n",
    "RESTRICT: Impede que ocorra a exclusão ou a atualização de um registro da tabela pai, caso ainda hajam registros na tabela filha. Uma exceção de violação de chave estrangeira é retornada. A verificação de integridade referencial é realizada antes de tentar executar a instrução UPDATE ou DELETE\n",
    "\n",
    "SET NULL: Esta opção é usada para definir com o valor NULL o campo na tabela filha quando um registro da tabela pai for atualizado ou excluído.\n",
    "\n",
    "NO ACTION: Essa opção equivale à opção RESTRICT, porém a verificação de integridade referencial é executada após a tentativa de alterar a tabela. É a opção padrão, aplicada caso nenhuma das opções seja definida na criação da chave estrangeira.\n",
    "\n",
    "SET DEFAULT: “Configura Padrão” – Define um valor padrão na coluna na tabela filha, aplicado quando um registro da tabela pai for atualizado ou excluído."
   ]
  },
  {
   "cell_type": "code",
   "execution_count": null,
   "metadata": {
    "vscode": {
     "languageId": "sql"
    }
   },
   "outputs": [],
   "source": [
    "CREATE TABLE telefones (\n",
    "    id_telefone SERIAL PRIMARY KEY,\n",
    "    telefone VARCHAR UNIQUE NOT NULL,\n",
    "    id_pessoa INTEGER REFERENCES pessoas(id_pessoa) ON DELETE CASCADE NOT NULL\n",
    ");"
   ]
  },
  {
   "cell_type": "markdown",
   "metadata": {},
   "source": [
    "1. Como deleto um registro específico de uma tabela? E todos os registros de uma\n",
    "vez?"
   ]
  },
  {
   "cell_type": "code",
   "execution_count": null,
   "metadata": {
    "vscode": {
     "languageId": "sql"
    }
   },
   "outputs": [],
   "source": [
    "DELETE FROM pessoas WHERE id_pessoa = 1;\n",
    "DELETE FROM pessoas;\n",
    "\n",
    "DELETE FROM telefones WHERE id_telefone = 1;\n",
    "DELETE FROM telefones;"
   ]
  },
  {
   "cell_type": "markdown",
   "metadata": {},
   "source": [
    "2. Como deleto uma tabela específica? E todas as tabelas de uma vez?"
   ]
  },
  {
   "cell_type": "code",
   "execution_count": null,
   "metadata": {
    "vscode": {
     "languageId": "sql"
    }
   },
   "outputs": [],
   "source": [
    "DROP TABLE pessoas;\n",
    "DROP TABLE telefones;"
   ]
  },
  {
   "cell_type": "code",
   "execution_count": null,
   "metadata": {
    "vscode": {
     "languageId": "sql"
    }
   },
   "outputs": [],
   "source": [
    "DO $$ \n",
    "DECLARE\n",
    "    tabela_atual text;\n",
    "BEGIN\n",
    "    FOR tabela_atual IN ('pessoas', 'telefones')\n",
    "    LOOP\n",
    "        EXECUTE 'DROP TABLE IF EXISTS ' || tabela_atual || ' CASCADE';\n",
    "    END LOOP;\n",
    "END $$;"
   ]
  },
  {
   "cell_type": "markdown",
   "metadata": {},
   "source": [
    "3. Como deleto uma base de dados específica?"
   ]
  },
  {
   "cell_type": "code",
   "execution_count": null,
   "metadata": {
    "vscode": {
     "languageId": "sql"
    }
   },
   "outputs": [],
   "source": [
    "DROP DATABASE agenda_telefonica;"
   ]
  },
  {
   "cell_type": "markdown",
   "metadata": {},
   "source": [
    "Kill Them All - Remove todo o esquema \"public\""
   ]
  },
  {
   "cell_type": "markdown",
   "metadata": {},
   "source": [
    "<img src=\"Kill-Them-All.jpg\">"
   ]
  },
  {
   "cell_type": "code",
   "execution_count": null,
   "metadata": {
    "vscode": {
     "languageId": "sql"
    }
   },
   "outputs": [],
   "source": [
    "DROP SCHEMA public CASCADE;\n",
    "CREATE SCHEMA public;"
   ]
  }
 ],
 "metadata": {
  "language_info": {
   "name": "python"
  }
 },
 "nbformat": 4,
 "nbformat_minor": 2
}
