{
 "cells": [
  {
   "cell_type": "markdown",
   "metadata": {},
   "source": [
    "Notas de Aula"
   ]
  },
  {
   "cell_type": "code",
   "execution_count": null,
   "metadata": {
    "vscode": {
     "languageId": "sql"
    }
   },
   "outputs": [],
   "source": [
    "SELECT * FROM pessoas LEFT JOIN telefones ON telefones.id_pessoa = pessoas.id_pessoa;"
   ]
  },
  {
   "cell_type": "code",
   "execution_count": null,
   "metadata": {
    "vscode": {
     "languageId": "sql"
    }
   },
   "outputs": [],
   "source": [
    "SELECT p.*, t.id_pessoa FROM pessoas AS p JOIN telefones AS t ON p.id_pessoa = t.id_pessoa GROUP BY p.id_pessoa, p.nome, p.idade, t.id_pessoa;"
   ]
  },
  {
   "cell_type": "code",
   "execution_count": null,
   "metadata": {
    "vscode": {
     "languageId": "sql"
    }
   },
   "outputs": [],
   "source": [
    "SELECT p.*, t.id_pessoa, COUNT(p.id_pessoa) AS \"Quantidade\" FROM pessoas AS p JOIN telefones AS t ON p.id_pessoa = t.id_pessoa GROUP BY p.id_pessoa, p.nome, p.idade, t.id_pessoa;"
   ]
  },
  {
   "cell_type": "code",
   "execution_count": null,
   "metadata": {
    "vscode": {
     "languageId": "sql"
    }
   },
   "outputs": [],
   "source": [
    "SELECT pessoas.*, telefones.id_pessoa, COUNT(pessoas.id_pessoa) FROM pessoas JOIN telefones ON pessoas.id_pessoa = telefones.id_pessoa GROUP BY pessoas.id_pessoa, pessoas.nome, pessoas.idade, telefones.id_pessoa;"
   ]
  },
  {
   "cell_type": "code",
   "execution_count": null,
   "metadata": {
    "vscode": {
     "languageId": "sql"
    }
   },
   "outputs": [],
   "source": [
    " SELECT pessoas.*, telefones.id_pessoa, COUNT(pessoas.id_pessoa) FROM pessoas JOIN telefones ON pessoas.id_pessoa = telefones.id_pessoa GROUP BY pessoas.id_pessoa, pessoas.nome, pessoas.idade, telefones.id_pessoa ORDER BY count;"
   ]
  },
  {
   "cell_type": "code",
   "execution_count": null,
   "metadata": {
    "vscode": {
     "languageId": "sql"
    }
   },
   "outputs": [],
   "source": [
    "TRUNCATE TABLE pessoas, telefones;"
   ]
  },
  {
   "cell_type": "markdown",
   "metadata": {},
   "source": [
    "1. Use uma consulta de inserção para inserir os seguintes registros:\n",
    "\n",
    "Calisto Silva, 30 anos, telefones: 40028922, 40068966 e 40078977\n",
    "\n",
    "Allan Silva, 25, telefone: 40038933\n",
    "\n",
    "David Dauli, 28, telefone: 40048944\n",
    "\n",
    "Adailton Aveiro, 17, telefones: 40058955 e 40088988\n"
   ]
  },
  {
   "cell_type": "code",
   "execution_count": null,
   "metadata": {
    "vscode": {
     "languageId": "sql"
    }
   },
   "outputs": [],
   "source": [
    "INSERT INTO pessoas (nome, idade)\n",
    "VALUES  ('Calisto Silva', 30), ('Allan Silva', 25), ('David Dauli', 28), ('Adailton Aveiro', 17);\n",
    "\n",
    "INSERT INTO telefones (telefone, id_pessoa)\n",
    "VALUES ('40028922', 1), ('40068966', 1), ('40078977', 1), ('40038933',2), ('40058955', 3), ('40088988', 3);"
   ]
  },
  {
   "cell_type": "markdown",
   "metadata": {},
   "source": [
    "2. Use uma consulta de seleção para recuperar todas as linhas da tabela pessoas."
   ]
  },
  {
   "cell_type": "code",
   "execution_count": null,
   "metadata": {
    "vscode": {
     "languageId": "sql"
    }
   },
   "outputs": [],
   "source": [
    "SELECT * FROM pessoas;"
   ]
  },
  {
   "cell_type": "markdown",
   "metadata": {},
   "source": [
    "3. Use uma consulta de seleção para recuperar apenas os nomes das pessoas."
   ]
  },
  {
   "cell_type": "code",
   "execution_count": null,
   "metadata": {
    "vscode": {
     "languageId": "sql"
    }
   },
   "outputs": [],
   "source": [
    "SELECT nome FROM pessoas;"
   ]
  },
  {
   "cell_type": "markdown",
   "metadata": {},
   "source": [
    "4. Use uma consulta de seleção para recuperar a soma, a média, a menor e a maior\n",
    "idade das pessoas. Nomeie as colunas resultantes da consulta de forma que\n",
    "fique claro o que são seus valores."
   ]
  },
  {
   "cell_type": "code",
   "execution_count": null,
   "metadata": {
    "vscode": {
     "languageId": "sql"
    }
   },
   "outputs": [],
   "source": [
    "SELECT\n",
    "    SUM(idade) AS soma_idades,\n",
    "    AVG(idade) AS media_idades,\n",
    "    MIN(idade) AS menor_idade,\n",
    "    MAX(idade) AS maior_idade\n",
    "FROM pessoas;"
   ]
  },
  {
   "cell_type": "markdown",
   "metadata": {},
   "source": [
    "5. Use uma consulta de seleção para recuperar todas as pessoas cujo nome começa\n",
    "com a letra 'A'."
   ]
  },
  {
   "cell_type": "code",
   "execution_count": null,
   "metadata": {
    "vscode": {
     "languageId": "sql"
    }
   },
   "outputs": [],
   "source": [
    "SELECT * FROM pessoas WHERE nome LIKE 'A%';"
   ]
  },
  {
   "cell_type": "markdown",
   "metadata": {},
   "source": [
    "6. Use uma consulta de seleção para recuperar todos as pessoas cujo nome tenha a\n",
    "substring 'av', não importando se as letras estarão em caixa alta ou em caixa\n",
    "baixa."
   ]
  },
  {
   "cell_type": "code",
   "execution_count": null,
   "metadata": {
    "vscode": {
     "languageId": "sql"
    }
   },
   "outputs": [],
   "source": [
    "SELECT * FROM pessoas WHERE nome ILIKE '%av%';"
   ]
  },
  {
   "cell_type": "markdown",
   "metadata": {},
   "source": [
    "7. Use uma consulta de seleção para recuperar todas as pessoas cuja idade é maior\n",
    "ou igual a 25."
   ]
  },
  {
   "cell_type": "code",
   "execution_count": null,
   "metadata": {
    "vscode": {
     "languageId": "sql"
    }
   },
   "outputs": [],
   "source": [
    "SELECT * FROM pessoas WHERE idade >= 25;"
   ]
  },
  {
   "cell_type": "markdown",
   "metadata": {},
   "source": [
    "9. Use uma consulta de atualização para adicionar 5 anos à idade de todas as\n",
    "pessoas."
   ]
  },
  {
   "cell_type": "code",
   "execution_count": null,
   "metadata": {
    "vscode": {
     "languageId": "sql"
    }
   },
   "outputs": [],
   "source": [
    "UPDATE pessoas SET idade = idade + 5;"
   ]
  },
  {
   "cell_type": "markdown",
   "metadata": {},
   "source": [
    "10. Use uma consulta de atualização para adicionar 2 anos à idade de uma pessoa\n",
    "específica. Justifique o atributo que escolheu para selecionar a pessoa em\n",
    "questão.\n"
   ]
  },
  {
   "cell_type": "code",
   "execution_count": null,
   "metadata": {
    "vscode": {
     "languageId": "sql"
    }
   },
   "outputs": [],
   "source": [
    "UPDATE pessoas SET idade = idade + 2 WHERE id_pessoa = 1;"
   ]
  },
  {
   "cell_type": "markdown",
   "metadata": {},
   "source": [
    "11. Use uma consulta de exclusão para remover uma pessoa específica. Justifique o\n",
    "atributo que escolheu para selecionar a pessoa em questão."
   ]
  },
  {
   "cell_type": "code",
   "execution_count": null,
   "metadata": {
    "vscode": {
     "languageId": "sql"
    }
   },
   "outputs": [],
   "source": [
    "DELETE FROM pessoas WHERE id_pessoa = 5;"
   ]
  },
  {
   "cell_type": "markdown",
   "metadata": {},
   "source": [
    "12. Crie uma consulta de seleção para recuperar o nome, idade e a quantidade de\n",
    "números de telefones de todas as pessoas que possuem mais de 24 anos. O\n",
    "resultado também deve ser mostrado de maneira decrescente por idade."
   ]
  },
  {
   "cell_type": "code",
   "execution_count": null,
   "metadata": {
    "vscode": {
     "languageId": "sql"
    }
   },
   "outputs": [],
   "source": [
    "SELECT\n",
    "    pessoas.nome,\n",
    "    pessoas.idade,\n",
    "    COUNT(telefones.id_telefone) AS quantidade_telefones\n",
    "FROM\n",
    "    pessoas\n",
    "JOIN\n",
    "    telefones ON pessoas.id_pessoa = telefones.id_pessoa\n",
    "WHERE\n",
    "    pessoas.idade > 24\n",
    "GROUP BY\n",
    "    pessoas.id_pessoa, pessoas.nome, pessoas.idade\n",
    "ORDER BY\n",
    "    pessoas.idade DESC;"
   ]
  },
  {
   "cell_type": "markdown",
   "metadata": {},
   "source": [
    "13. Crie uma consulta de seleção que mostre os registros da tabela Pessoas de\n",
    "maneira paginada. Cada página deve mostrar apenas 2 registros. Tente pensar\n",
    "em uma lógica imaginando que você receberá um número que representa a\n",
    "página e você só poderá alterar esse número na consulta."
   ]
  },
  {
   "cell_type": "code",
   "execution_count": null,
   "metadata": {
    "vscode": {
     "languageId": "sql"
    }
   },
   "outputs": [],
   "source": [
    "SELECT * FROM pessoas ORDER BY id_pessoa LIMIT 2 OFFSET ((2 - 1) * 2);"
   ]
  },
  {
   "cell_type": "markdown",
   "metadata": {},
   "source": [
    "14. Pesquise sobre a funcionalidade HAVING que pode ser utilizada em parceria com\n",
    "o GROUP BY. Em seguida, explique o que essa palavra reservada faz, qual a\n",
    "diferença dela para o WHERE e exemplifique uma situação que ela pode ser\n",
    "utilizada."
   ]
  },
  {
   "cell_type": "code",
   "execution_count": null,
   "metadata": {
    "vscode": {
     "languageId": "sql"
    }
   },
   "outputs": [],
   "source": [
    "SELECT\n",
    "    pessoas.id_pessoa,\n",
    "    pessoas.nome,\n",
    "    pessoas.idade,\n",
    "    COUNT(telefones.id_telefone) AS quantidade_telefones\n",
    "FROM\n",
    "    pessoas\n",
    "JOIN\n",
    "    telefones ON pessoas.id_pessoa = telefones.id_pessoa\n",
    "GROUP BY\n",
    "    pessoas.id_pessoa, pessoas.nome, pessoas.idade\n",
    "HAVING\n",
    "    COUNT(telefones.id_telefone) > 1;"
   ]
  }
 ],
 "metadata": {
  "language_info": {
   "name": "python"
  }
 },
 "nbformat": 4,
 "nbformat_minor": 2
}
