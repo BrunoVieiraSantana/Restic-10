{
 "cells": [
  {
   "cell_type": "code",
   "execution_count": null,
   "metadata": {
    "vscode": {
     "languageId": "sql"
    }
   },
   "outputs": [],
   "source": [
    "SELECT * FROM pessoas LEFT JOIN telefones ON telefones.id_pessoa = pessoas.id_pessoa;"
   ]
  },
  {
   "cell_type": "code",
   "execution_count": null,
   "metadata": {
    "vscode": {
     "languageId": "sql"
    }
   },
   "outputs": [],
   "source": [
    "SELECT p.*, t.id_pessoa FROM pessoas AS p JOIN telefones AS t ON p.id_pessoa = t.id_pessoa GROUP BY p.id_pessoa, p.nome, p.idade, t.id_pessoa;"
   ]
  },
  {
   "cell_type": "code",
   "execution_count": null,
   "metadata": {
    "vscode": {
     "languageId": "sql"
    }
   },
   "outputs": [],
   "source": [
    "SELECT p.*, t.id_pessoa, COUNT(p.id_pessoa) AS \"Quantidade\" FROM pessoas AS p JOIN telefones AS t ON p.id_pessoa = t.id_pessoa GROUP BY p.id_pessoa, p.nome, p.idade, t.id_pessoa;"
   ]
  },
  {
   "cell_type": "code",
   "execution_count": null,
   "metadata": {
    "vscode": {
     "languageId": "sql"
    }
   },
   "outputs": [],
   "source": [
    "SELECT pessoas.*, telefones.id_pessoa, COUNT(pessoas.id_pessoa) FROM pessoas JOIN telefones ON pessoas.id_pessoa = telefones.id_pessoa GROUP BY pessoas.id_pessoa, pessoas.nome, pessoas.idade, telefones.id_pessoa;"
   ]
  }
 ],
 "metadata": {
  "language_info": {
   "name": "python"
  }
 },
 "nbformat": 4,
 "nbformat_minor": 2
}
