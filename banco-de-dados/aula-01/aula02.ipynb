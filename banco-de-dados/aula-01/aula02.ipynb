{
 "cells": [
  {
   "cell_type": "code",
   "execution_count": null,
   "metadata": {
    "vscode": {
     "languageId": "sql"
    }
   },
   "outputs": [],
   "source": [
    "SELECT * FROM pessoas LEFT JOIN telefones ON telefones.id_pessoa = pessoas.id_pessoa;"
   ]
  },
  {
   "cell_type": "code",
   "execution_count": null,
   "metadata": {
    "vscode": {
     "languageId": "sql"
    }
   },
   "outputs": [],
   "source": [
    "SELECT p.*, t.id_pessoa FROM pessoas AS p JOIN telefones AS t ON p.id_pessoa = t.id_pessoa GROUP BY p.id_pessoa, p.nome, p.idade, t.id_pessoa;"
   ]
  },
  {
   "cell_type": "code",
   "execution_count": null,
   "metadata": {
    "vscode": {
     "languageId": "sql"
    }
   },
   "outputs": [],
   "source": [
    "SELECT p.*, t.id_pessoa, COUNT(p.id_pessoa) AS \"Quantidade\" FROM pessoas AS p JOIN telefones AS t ON p.id_pessoa = t.id_pessoa GROUP BY p.id_pessoa, p.nome, p.idade, t.id_pessoa;"
   ]
  },
  {
   "cell_type": "code",
   "execution_count": null,
   "metadata": {
    "vscode": {
     "languageId": "sql"
    }
   },
   "outputs": [],
   "source": [
    "SELECT pessoas.*, telefones.id_pessoa, COUNT(pessoas.id_pessoa) FROM pessoas JOIN telefones ON pessoas.id_pessoa = telefones.id_pessoa GROUP BY pessoas.id_pessoa, pessoas.nome, pessoas.idade, telefones.id_pessoa;"
   ]
  },
  {
   "cell_type": "code",
   "execution_count": null,
   "metadata": {
    "vscode": {
     "languageId": "sql"
    }
   },
   "outputs": [],
   "source": [
    " SELECT pessoas.*, telefones.id_pessoa, COUNT(pessoas.id_pessoa) FROM pessoas JOIN telefones ON pessoas.id_pessoa = telefones.id_pessoa GROUP BY pessoas.id_pessoa, pessoas.nome, pessoas.idade, telefones.id_pessoa ORDER BY count;"
   ]
  },
  {
   "cell_type": "markdown",
   "metadata": {},
   "source": [
    "1. Use uma consulta de inserção para inserir os seguintes registros:\n",
    "\n",
    "Calisto Silva, 30 anos, telefones: 40028922, 40068966 e 40078977\n",
    "\n",
    "Allan Silva, 25, telefone: 40038933\n",
    "\n",
    "David Dauli, 28, telefone: 40048944\n",
    "\n",
    "Adailton Aveiro, 17, telefones: 40058955 e 40088988\n"
   ]
  },
  {
   "cell_type": "code",
   "execution_count": null,
   "metadata": {
    "vscode": {
     "languageId": "sql"
    }
   },
   "outputs": [],
   "source": [
    "UPDATE pessoas\n",
    "SET nome = Calisto Silva, idade = 30"
   ]
  },
  {
   "cell_type": "markdown",
   "metadata": {},
   "source": [
    "2. Use uma consulta de seleção para recuperar todas as linhas da tabela pessoas."
   ]
  },
  {
   "cell_type": "code",
   "execution_count": null,
   "metadata": {
    "vscode": {
     "languageId": "sql"
    }
   },
   "outputs": [],
   "source": []
  }
 ],
 "metadata": {
  "language_info": {
   "name": "python"
  }
 },
 "nbformat": 4,
 "nbformat_minor": 2
}
